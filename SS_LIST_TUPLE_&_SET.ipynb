{
 "cells": [
  {
   "cell_type": "code",
   "execution_count": 10,
   "id": "f56d4a80",
   "metadata": {},
   "outputs": [],
   "source": [
    "l=[1,23,245,\"silan\",345.44,4+5j]"
   ]
  },
  {
   "cell_type": "code",
   "execution_count": 4,
   "id": "58dfdfe6",
   "metadata": {},
   "outputs": [
    {
     "data": {
      "text/plain": [
       "list"
      ]
     },
     "execution_count": 4,
     "metadata": {},
     "output_type": "execute_result"
    }
   ],
   "source": [
    "type(l)"
   ]
  },
  {
   "cell_type": "code",
   "execution_count": 5,
   "id": "e2691f5b",
   "metadata": {},
   "outputs": [
    {
     "data": {
      "text/plain": [
       "1"
      ]
     },
     "execution_count": 5,
     "metadata": {},
     "output_type": "execute_result"
    }
   ],
   "source": [
    "l[0]"
   ]
  },
  {
   "cell_type": "code",
   "execution_count": 7,
   "id": "59759170",
   "metadata": {},
   "outputs": [
    {
     "data": {
      "text/plain": [
       "345.44"
      ]
     },
     "execution_count": 7,
     "metadata": {},
     "output_type": "execute_result"
    }
   ],
   "source": [
    "l[4]"
   ]
  },
  {
   "cell_type": "code",
   "execution_count": 8,
   "id": "8a21d97e",
   "metadata": {},
   "outputs": [
    {
     "ename": "IndexError",
     "evalue": "list index out of range",
     "output_type": "error",
     "traceback": [
      "\u001b[1;31m---------------------------------------------------------------------------\u001b[0m",
      "\u001b[1;31mIndexError\u001b[0m                                Traceback (most recent call last)",
      "\u001b[1;32m~\\AppData\\Local\\Temp\\ipykernel_9400\\1547958108.py\u001b[0m in \u001b[0;36m<module>\u001b[1;34m\u001b[0m\n\u001b[1;32m----> 1\u001b[1;33m \u001b[0ml\u001b[0m\u001b[1;33m[\u001b[0m\u001b[1;36m7\u001b[0m\u001b[1;33m]\u001b[0m\u001b[1;33m\u001b[0m\u001b[1;33m\u001b[0m\u001b[0m\n\u001b[0m",
      "\u001b[1;31mIndexError\u001b[0m: list index out of range"
     ]
    }
   ],
   "source": [
    "l[7]"
   ]
  },
  {
   "cell_type": "code",
   "execution_count": 11,
   "id": "aceea6c3",
   "metadata": {},
   "outputs": [
    {
     "data": {
      "text/plain": [
       "[1, 23, 245]"
      ]
     },
     "execution_count": 11,
     "metadata": {},
     "output_type": "execute_result"
    }
   ],
   "source": [
    "l[0:3]"
   ]
  },
  {
   "cell_type": "code",
   "execution_count": 12,
   "id": "3e1d75f7",
   "metadata": {},
   "outputs": [
    {
     "data": {
      "text/plain": [
       "[1, 23, 245, 'silan', 345.44, (4+5j)]"
      ]
     },
     "execution_count": 12,
     "metadata": {},
     "output_type": "execute_result"
    }
   ],
   "source": [
    "l"
   ]
  },
  {
   "cell_type": "code",
   "execution_count": 13,
   "id": "dc4c6f03",
   "metadata": {},
   "outputs": [
    {
     "data": {
      "text/plain": [
       "(4+5j)"
      ]
     },
     "execution_count": 13,
     "metadata": {},
     "output_type": "execute_result"
    }
   ],
   "source": [
    "l[-1]"
   ]
  },
  {
   "cell_type": "code",
   "execution_count": 14,
   "id": "439a89de",
   "metadata": {},
   "outputs": [
    {
     "data": {
      "text/plain": [
       "[(4+5j), 345.44, 'silan', 245, 23, 1]"
      ]
     },
     "execution_count": 14,
     "metadata": {},
     "output_type": "execute_result"
    }
   ],
   "source": [
    "#reverse\n",
    "l[::-1]"
   ]
  },
  {
   "cell_type": "code",
   "execution_count": 15,
   "id": "9c9f2a37",
   "metadata": {},
   "outputs": [
    {
     "data": {
      "text/plain": [
       "[1, 245, 345.44]"
      ]
     },
     "execution_count": 15,
     "metadata": {},
     "output_type": "execute_result"
    }
   ],
   "source": [
    "#step value and also even indexes\n",
    "l[::2]"
   ]
  },
  {
   "cell_type": "code",
   "execution_count": 16,
   "id": "e7aadaff",
   "metadata": {},
   "outputs": [],
   "source": [
    "s=\"pwskills\""
   ]
  },
  {
   "cell_type": "code",
   "execution_count": 17,
   "id": "d6b43e76",
   "metadata": {},
   "outputs": [
    {
     "ename": "TypeError",
     "evalue": "can only concatenate list (not \"str\") to list",
     "output_type": "error",
     "traceback": [
      "\u001b[1;31m---------------------------------------------------------------------------\u001b[0m",
      "\u001b[1;31mTypeError\u001b[0m                                 Traceback (most recent call last)",
      "\u001b[1;32m~\\AppData\\Local\\Temp\\ipykernel_9400\\1140923193.py\u001b[0m in \u001b[0;36m<module>\u001b[1;34m\u001b[0m\n\u001b[1;32m----> 1\u001b[1;33m \u001b[0ml\u001b[0m\u001b[1;33m+\u001b[0m\u001b[0ms\u001b[0m\u001b[1;33m\u001b[0m\u001b[1;33m\u001b[0m\u001b[0m\n\u001b[0m",
      "\u001b[1;31mTypeError\u001b[0m: can only concatenate list (not \"str\") to list"
     ]
    }
   ],
   "source": [
    "l+s\n",
    "#can't be concatenate becz of diff data type"
   ]
  },
  {
   "cell_type": "code",
   "execution_count": 18,
   "id": "a160a50a",
   "metadata": {},
   "outputs": [
    {
     "data": {
      "text/plain": [
       "['p', 'w', 's', 'k', 'i', 'l', 'l', 's']"
      ]
     },
     "execution_count": 18,
     "metadata": {},
     "output_type": "execute_result"
    }
   ],
   "source": [
    "list(s)"
   ]
  },
  {
   "cell_type": "code",
   "execution_count": 20,
   "id": "18dc3cc2",
   "metadata": {},
   "outputs": [
    {
     "data": {
      "text/plain": [
       "['p', 'w', 's', 'k', 'i', 'l', 'l', 's', 1, 23, 245, 'silan', 345.44, (4+5j)]"
      ]
     },
     "execution_count": 20,
     "metadata": {},
     "output_type": "execute_result"
    }
   ],
   "source": [
    "list(s)+l"
   ]
  },
  {
   "cell_type": "code",
   "execution_count": 21,
   "id": "8f01eca9",
   "metadata": {},
   "outputs": [
    {
     "data": {
      "text/plain": [
       "[1, 23, 245, 'silan', 345.44, (4+5j)]"
      ]
     },
     "execution_count": 21,
     "metadata": {},
     "output_type": "execute_result"
    }
   ],
   "source": [
    "l"
   ]
  },
  {
   "cell_type": "code",
   "execution_count": 22,
   "id": "6c255a81",
   "metadata": {},
   "outputs": [
    {
     "data": {
      "text/plain": [
       "'silan'"
      ]
     },
     "execution_count": 22,
     "metadata": {},
     "output_type": "execute_result"
    }
   ],
   "source": [
    "l[3]"
   ]
  },
  {
   "cell_type": "code",
   "execution_count": 23,
   "id": "1224bbdb",
   "metadata": {},
   "outputs": [
    {
     "data": {
      "text/plain": [
       "str"
      ]
     },
     "execution_count": 23,
     "metadata": {},
     "output_type": "execute_result"
    }
   ],
   "source": [
    "type(l[3])"
   ]
  },
  {
   "cell_type": "code",
   "execution_count": 24,
   "id": "be3a73ff",
   "metadata": {},
   "outputs": [
    {
     "data": {
      "text/plain": [
       "'si'"
      ]
     },
     "execution_count": 24,
     "metadata": {},
     "output_type": "execute_result"
    }
   ],
   "source": [
    "l[3][0:2]"
   ]
  },
  {
   "cell_type": "code",
   "execution_count": 25,
   "id": "d847b53b",
   "metadata": {},
   "outputs": [
    {
     "data": {
      "text/plain": [
       "345.44"
      ]
     },
     "execution_count": 25,
     "metadata": {},
     "output_type": "execute_result"
    }
   ],
   "source": [
    "l[4]"
   ]
  },
  {
   "cell_type": "code",
   "execution_count": 26,
   "id": "4d2a9dfc",
   "metadata": {},
   "outputs": [
    {
     "data": {
      "text/plain": [
       "'silan'"
      ]
     },
     "execution_count": 26,
     "metadata": {},
     "output_type": "execute_result"
    }
   ],
   "source": [
    "str(l[3])"
   ]
  },
  {
   "cell_type": "code",
   "execution_count": 31,
   "id": "bc6deeca",
   "metadata": {},
   "outputs": [],
   "source": [
    "l1=[3,True,5]"
   ]
  },
  {
   "cell_type": "code",
   "execution_count": 32,
   "id": "59bc944e",
   "metadata": {},
   "outputs": [
    {
     "data": {
      "text/plain": [
       "[1, 23, 245, 'silan', 345.44, (4+5j), 3, True, 5]"
      ]
     },
     "execution_count": 32,
     "metadata": {},
     "output_type": "execute_result"
    }
   ],
   "source": [
    "l+l1"
   ]
  },
  {
   "cell_type": "code",
   "execution_count": 33,
   "id": "bf4379d7",
   "metadata": {},
   "outputs": [
    {
     "data": {
      "text/plain": [
       "[3, True, 5, 3, True, 5, 3, True, 5]"
      ]
     },
     "execution_count": 33,
     "metadata": {},
     "output_type": "execute_result"
    }
   ],
   "source": [
    "l1*3"
   ]
  },
  {
   "cell_type": "code",
   "execution_count": 34,
   "id": "173456a5",
   "metadata": {},
   "outputs": [
    {
     "data": {
      "text/plain": [
       "6"
      ]
     },
     "execution_count": 34,
     "metadata": {},
     "output_type": "execute_result"
    }
   ],
   "source": [
    "len(l)"
   ]
  },
  {
   "cell_type": "code",
   "execution_count": 36,
   "id": "f7257c76",
   "metadata": {},
   "outputs": [
    {
     "data": {
      "text/plain": [
       "'Tr'"
      ]
     },
     "execution_count": 36,
     "metadata": {},
     "output_type": "execute_result"
    }
   ],
   "source": [
    "str(l1[1])[0:2]"
   ]
  },
  {
   "cell_type": "code",
   "execution_count": 37,
   "id": "80a6d8a4",
   "metadata": {},
   "outputs": [
    {
     "data": {
      "text/plain": [
       "[1, 23, 245, 'silan', 345.44, (4+5j)]"
      ]
     },
     "execution_count": 37,
     "metadata": {},
     "output_type": "execute_result"
    }
   ],
   "source": [
    "l"
   ]
  },
  {
   "cell_type": "code",
   "execution_count": 39,
   "id": "432339eb",
   "metadata": {},
   "outputs": [],
   "source": [
    "#.tab functions \n",
    "#shift+tab details\n",
    "l.append(5)"
   ]
  },
  {
   "cell_type": "code",
   "execution_count": 40,
   "id": "c5a47f35",
   "metadata": {},
   "outputs": [
    {
     "data": {
      "text/plain": [
       "[1, 23, 245, 'silan', 345.44, (4+5j), 5, 5]"
      ]
     },
     "execution_count": 40,
     "metadata": {},
     "output_type": "execute_result"
    }
   ],
   "source": [
    "l"
   ]
  },
  {
   "cell_type": "code",
   "execution_count": 42,
   "id": "043897fd",
   "metadata": {},
   "outputs": [],
   "source": [
    "l.append(s)"
   ]
  },
  {
   "cell_type": "code",
   "execution_count": 43,
   "id": "39194a6b",
   "metadata": {},
   "outputs": [
    {
     "data": {
      "text/plain": [
       "[1, 23, 245, 'silan', 345.44, (4+5j), 5, 5, 5, 'pwskills']"
      ]
     },
     "execution_count": 43,
     "metadata": {},
     "output_type": "execute_result"
    }
   ],
   "source": [
    "l"
   ]
  },
  {
   "cell_type": "code",
   "execution_count": 44,
   "id": "d693aab7",
   "metadata": {},
   "outputs": [],
   "source": [
    "l.append(l1)"
   ]
  },
  {
   "cell_type": "code",
   "execution_count": 45,
   "id": "8e894eae",
   "metadata": {},
   "outputs": [
    {
     "data": {
      "text/plain": [
       "[1, 23, 245, 'silan', 345.44, (4+5j), 5, 5, 5, 'pwskills', [3, True, 5]]"
      ]
     },
     "execution_count": 45,
     "metadata": {},
     "output_type": "execute_result"
    }
   ],
   "source": [
    "l"
   ]
  },
  {
   "cell_type": "code",
   "execution_count": 46,
   "id": "8b82dc9d",
   "metadata": {},
   "outputs": [
    {
     "data": {
      "text/plain": [
       "[3, True, 5]"
      ]
     },
     "execution_count": 46,
     "metadata": {},
     "output_type": "execute_result"
    }
   ],
   "source": [
    "l[-1]"
   ]
  },
  {
   "cell_type": "code",
   "execution_count": 47,
   "id": "334d4fcb",
   "metadata": {},
   "outputs": [
    {
     "data": {
      "text/plain": [
       "True"
      ]
     },
     "execution_count": 47,
     "metadata": {},
     "output_type": "execute_result"
    }
   ],
   "source": [
    "l[-1][1]"
   ]
  },
  {
   "cell_type": "code",
   "execution_count": 48,
   "id": "54af6edc",
   "metadata": {},
   "outputs": [
    {
     "data": {
      "text/plain": [
       "[1, 23, 245, 'silan', 345.44, (4+5j), 5, 5, 5, 'pwskills', [3, True, 5]]"
      ]
     },
     "execution_count": 48,
     "metadata": {},
     "output_type": "execute_result"
    }
   ],
   "source": [
    "l"
   ]
  },
  {
   "cell_type": "code",
   "execution_count": 49,
   "id": "b2180958",
   "metadata": {},
   "outputs": [
    {
     "ename": "TypeError",
     "evalue": "'int' object is not iterable",
     "output_type": "error",
     "traceback": [
      "\u001b[1;31m---------------------------------------------------------------------------\u001b[0m",
      "\u001b[1;31mTypeError\u001b[0m                                 Traceback (most recent call last)",
      "\u001b[1;32m~\\AppData\\Local\\Temp\\ipykernel_9400\\2311825727.py\u001b[0m in \u001b[0;36m<module>\u001b[1;34m\u001b[0m\n\u001b[1;32m----> 1\u001b[1;33m \u001b[0ml\u001b[0m\u001b[1;33m.\u001b[0m\u001b[0mextend\u001b[0m\u001b[1;33m(\u001b[0m\u001b[1;36m4\u001b[0m\u001b[1;33m)\u001b[0m\u001b[1;33m\u001b[0m\u001b[1;33m\u001b[0m\u001b[0m\n\u001b[0m",
      "\u001b[1;31mTypeError\u001b[0m: 'int' object is not iterable"
     ]
    }
   ],
   "source": [
    "l.extend(4)"
   ]
  },
  {
   "cell_type": "code",
   "execution_count": 50,
   "id": "df9a5c08",
   "metadata": {},
   "outputs": [],
   "source": [
    "l.extend(\"ss\")"
   ]
  },
  {
   "cell_type": "code",
   "execution_count": 51,
   "id": "6ec163ae",
   "metadata": {},
   "outputs": [
    {
     "data": {
      "text/plain": [
       "[1,\n",
       " 23,\n",
       " 245,\n",
       " 'silan',\n",
       " 345.44,\n",
       " (4+5j),\n",
       " 5,\n",
       " 5,\n",
       " 5,\n",
       " 'pwskills',\n",
       " [3, True, 5],\n",
       " 's',\n",
       " 's']"
      ]
     },
     "execution_count": 51,
     "metadata": {},
     "output_type": "execute_result"
    }
   ],
   "source": [
    "l"
   ]
  },
  {
   "cell_type": "code",
   "execution_count": 52,
   "id": "c34fabcd",
   "metadata": {},
   "outputs": [],
   "source": [
    "l.extend([3,7,8])"
   ]
  },
  {
   "cell_type": "code",
   "execution_count": 53,
   "id": "b15dab0e",
   "metadata": {},
   "outputs": [
    {
     "data": {
      "text/plain": [
       "[1,\n",
       " 23,\n",
       " 245,\n",
       " 'silan',\n",
       " 345.44,\n",
       " (4+5j),\n",
       " 5,\n",
       " 5,\n",
       " 5,\n",
       " 'pwskills',\n",
       " [3, True, 5],\n",
       " 's',\n",
       " 's',\n",
       " 3,\n",
       " 7,\n",
       " 8]"
      ]
     },
     "execution_count": 53,
     "metadata": {},
     "output_type": "execute_result"
    }
   ],
   "source": [
    "l"
   ]
  },
  {
   "cell_type": "code",
   "execution_count": 54,
   "id": "15016f87",
   "metadata": {},
   "outputs": [
    {
     "data": {
      "text/plain": [
       "[3, True, 5]"
      ]
     },
     "execution_count": 54,
     "metadata": {},
     "output_type": "execute_result"
    }
   ],
   "source": [
    "l1"
   ]
  },
  {
   "cell_type": "code",
   "execution_count": 55,
   "id": "882c7e42",
   "metadata": {},
   "outputs": [],
   "source": [
    "l1.insert(1,\"silu\")"
   ]
  },
  {
   "cell_type": "code",
   "execution_count": 56,
   "id": "298fadf5",
   "metadata": {},
   "outputs": [
    {
     "data": {
      "text/plain": [
       "[3, 'silu', True, 5]"
      ]
     },
     "execution_count": 56,
     "metadata": {},
     "output_type": "execute_result"
    }
   ],
   "source": [
    "l1"
   ]
  },
  {
   "cell_type": "code",
   "execution_count": 57,
   "id": "f2ae9818",
   "metadata": {},
   "outputs": [],
   "source": [
    "l1.insert(2,[1,2,3])"
   ]
  },
  {
   "cell_type": "code",
   "execution_count": 58,
   "id": "5f7a7346",
   "metadata": {},
   "outputs": [
    {
     "data": {
      "text/plain": [
       "[3, 'silu', [1, 2, 3], True, 5]"
      ]
     },
     "execution_count": 58,
     "metadata": {},
     "output_type": "execute_result"
    }
   ],
   "source": [
    "l1"
   ]
  },
  {
   "cell_type": "code",
   "execution_count": 59,
   "id": "c0bcae83",
   "metadata": {},
   "outputs": [],
   "source": [
    "l1.insert(-1,45)"
   ]
  },
  {
   "cell_type": "code",
   "execution_count": 60,
   "id": "6334c308",
   "metadata": {},
   "outputs": [
    {
     "data": {
      "text/plain": [
       "[3, 'silu', [1, 2, 3], True, 45, 5]"
      ]
     },
     "execution_count": 60,
     "metadata": {},
     "output_type": "execute_result"
    }
   ],
   "source": [
    "l1"
   ]
  },
  {
   "cell_type": "code",
   "execution_count": 61,
   "id": "a38573dc",
   "metadata": {},
   "outputs": [],
   "source": [
    "l1.insert(0,45)"
   ]
  },
  {
   "cell_type": "code",
   "execution_count": 62,
   "id": "9aee5970",
   "metadata": {},
   "outputs": [
    {
     "data": {
      "text/plain": [
       "[45, 3, 'silu', [1, 2, 3], True, 45, 5]"
      ]
     },
     "execution_count": 62,
     "metadata": {},
     "output_type": "execute_result"
    }
   ],
   "source": [
    "l1"
   ]
  },
  {
   "cell_type": "code",
   "execution_count": 63,
   "id": "6a3a1a37",
   "metadata": {},
   "outputs": [
    {
     "data": {
      "text/plain": [
       "5"
      ]
     },
     "execution_count": 63,
     "metadata": {},
     "output_type": "execute_result"
    }
   ],
   "source": [
    "l1.pop()"
   ]
  },
  {
   "cell_type": "code",
   "execution_count": 64,
   "id": "c1ddd923",
   "metadata": {},
   "outputs": [
    {
     "data": {
      "text/plain": [
       "[45, 3, 'silu', [1, 2, 3], True, 45]"
      ]
     },
     "execution_count": 64,
     "metadata": {},
     "output_type": "execute_result"
    }
   ],
   "source": [
    "l1"
   ]
  },
  {
   "cell_type": "code",
   "execution_count": 65,
   "id": "9632dbbb",
   "metadata": {},
   "outputs": [
    {
     "data": {
      "text/plain": [
       "45"
      ]
     },
     "execution_count": 65,
     "metadata": {},
     "output_type": "execute_result"
    }
   ],
   "source": [
    "l1.pop()"
   ]
  },
  {
   "cell_type": "code",
   "execution_count": 66,
   "id": "36acbae7",
   "metadata": {},
   "outputs": [
    {
     "data": {
      "text/plain": [
       "[45, 3, 'silu', [1, 2, 3], True]"
      ]
     },
     "execution_count": 66,
     "metadata": {},
     "output_type": "execute_result"
    }
   ],
   "source": [
    "l1"
   ]
  },
  {
   "cell_type": "code",
   "execution_count": 67,
   "id": "5f61ba37",
   "metadata": {},
   "outputs": [
    {
     "data": {
      "text/plain": [
       "'silu'"
      ]
     },
     "execution_count": 67,
     "metadata": {},
     "output_type": "execute_result"
    }
   ],
   "source": [
    "l1.pop(2)"
   ]
  },
  {
   "cell_type": "code",
   "execution_count": 68,
   "id": "f7e006ba",
   "metadata": {},
   "outputs": [
    {
     "data": {
      "text/plain": [
       "[45, 3, [1, 2, 3], True]"
      ]
     },
     "execution_count": 68,
     "metadata": {},
     "output_type": "execute_result"
    }
   ],
   "source": [
    "l1"
   ]
  },
  {
   "cell_type": "code",
   "execution_count": 69,
   "id": "5e53892f",
   "metadata": {},
   "outputs": [
    {
     "data": {
      "text/plain": [
       "True"
      ]
     },
     "execution_count": 69,
     "metadata": {},
     "output_type": "execute_result"
    }
   ],
   "source": [
    "l1.pop(3)"
   ]
  },
  {
   "cell_type": "code",
   "execution_count": 70,
   "id": "f97f81d9",
   "metadata": {},
   "outputs": [
    {
     "data": {
      "text/plain": [
       "[45, 3, [1, 2, 3]]"
      ]
     },
     "execution_count": 70,
     "metadata": {},
     "output_type": "execute_result"
    }
   ],
   "source": [
    "l1"
   ]
  },
  {
   "cell_type": "code",
   "execution_count": 71,
   "id": "ff7fbabe",
   "metadata": {},
   "outputs": [],
   "source": [
    "l1.remove(3) #it remove element"
   ]
  },
  {
   "cell_type": "code",
   "execution_count": 72,
   "id": "ddff0667",
   "metadata": {},
   "outputs": [
    {
     "data": {
      "text/plain": [
       "[45, [1, 2, 3]]"
      ]
     },
     "execution_count": 72,
     "metadata": {},
     "output_type": "execute_result"
    }
   ],
   "source": [
    "l1"
   ]
  },
  {
   "cell_type": "code",
   "execution_count": 73,
   "id": "6c30d4f6",
   "metadata": {},
   "outputs": [
    {
     "ename": "ValueError",
     "evalue": "list.remove(x): x not in list",
     "output_type": "error",
     "traceback": [
      "\u001b[1;31m---------------------------------------------------------------------------\u001b[0m",
      "\u001b[1;31mValueError\u001b[0m                                Traceback (most recent call last)",
      "\u001b[1;32m~\\AppData\\Local\\Temp\\ipykernel_9400\\4251053251.py\u001b[0m in \u001b[0;36m<module>\u001b[1;34m\u001b[0m\n\u001b[1;32m----> 1\u001b[1;33m \u001b[0ml1\u001b[0m\u001b[1;33m.\u001b[0m\u001b[0mremove\u001b[0m\u001b[1;33m(\u001b[0m\u001b[1;36m43\u001b[0m\u001b[1;33m)\u001b[0m\u001b[1;33m\u001b[0m\u001b[1;33m\u001b[0m\u001b[0m\n\u001b[0m",
      "\u001b[1;31mValueError\u001b[0m: list.remove(x): x not in list"
     ]
    }
   ],
   "source": [
    "l1.remove(43)"
   ]
  },
  {
   "cell_type": "code",
   "execution_count": 75,
   "id": "e67d7a26",
   "metadata": {},
   "outputs": [
    {
     "ename": "TypeError",
     "evalue": "list.remove() takes exactly one argument (2 given)",
     "output_type": "error",
     "traceback": [
      "\u001b[1;31m---------------------------------------------------------------------------\u001b[0m",
      "\u001b[1;31mTypeError\u001b[0m                                 Traceback (most recent call last)",
      "\u001b[1;32m~\\AppData\\Local\\Temp\\ipykernel_9400\\223804440.py\u001b[0m in \u001b[0;36m<module>\u001b[1;34m\u001b[0m\n\u001b[1;32m----> 1\u001b[1;33m \u001b[0ml1\u001b[0m\u001b[1;33m.\u001b[0m\u001b[0mremove\u001b[0m\u001b[1;33m(\u001b[0m\u001b[1;36m1\u001b[0m\u001b[1;33m,\u001b[0m\u001b[1;33m[\u001b[0m\u001b[1;36m2\u001b[0m\u001b[1;33m]\u001b[0m\u001b[1;33m)\u001b[0m\u001b[1;33m\u001b[0m\u001b[1;33m\u001b[0m\u001b[0m\n\u001b[0m",
      "\u001b[1;31mTypeError\u001b[0m: list.remove() takes exactly one argument (2 given)"
     ]
    }
   ],
   "source": [
    "l1.remove(1,[2])"
   ]
  },
  {
   "cell_type": "code",
   "execution_count": 76,
   "id": "235fb94e",
   "metadata": {},
   "outputs": [
    {
     "ename": "IndexError",
     "evalue": "list index out of range",
     "output_type": "error",
     "traceback": [
      "\u001b[1;31m---------------------------------------------------------------------------\u001b[0m",
      "\u001b[1;31mIndexError\u001b[0m                                Traceback (most recent call last)",
      "\u001b[1;32m~\\AppData\\Local\\Temp\\ipykernel_9400\\858342466.py\u001b[0m in \u001b[0;36m<module>\u001b[1;34m\u001b[0m\n\u001b[1;32m----> 1\u001b[1;33m \u001b[0ml1\u001b[0m\u001b[1;33m[\u001b[0m\u001b[1;36m2\u001b[0m\u001b[1;33m]\u001b[0m\u001b[1;33m\u001b[0m\u001b[1;33m\u001b[0m\u001b[0m\n\u001b[0m",
      "\u001b[1;31mIndexError\u001b[0m: list index out of range"
     ]
    }
   ],
   "source": [
    "l1[2]"
   ]
  },
  {
   "cell_type": "code",
   "execution_count": 77,
   "id": "a57568f0",
   "metadata": {},
   "outputs": [
    {
     "data": {
      "text/plain": [
       "[1, 2, 3]"
      ]
     },
     "execution_count": 77,
     "metadata": {},
     "output_type": "execute_result"
    }
   ],
   "source": [
    "l1[1]"
   ]
  },
  {
   "cell_type": "code",
   "execution_count": 78,
   "id": "656cc780",
   "metadata": {},
   "outputs": [],
   "source": [
    "l1[1].remove(3)"
   ]
  },
  {
   "cell_type": "code",
   "execution_count": 79,
   "id": "8367ee31",
   "metadata": {},
   "outputs": [
    {
     "data": {
      "text/plain": [
       "[45, [1, 2]]"
      ]
     },
     "execution_count": 79,
     "metadata": {},
     "output_type": "execute_result"
    }
   ],
   "source": [
    "l1"
   ]
  },
  {
   "cell_type": "code",
   "execution_count": 80,
   "id": "73cc3d5e",
   "metadata": {},
   "outputs": [],
   "source": [
    "l1.insert(1,\"silu\")"
   ]
  },
  {
   "cell_type": "code",
   "execution_count": 81,
   "id": "0ae6ff37",
   "metadata": {},
   "outputs": [
    {
     "data": {
      "text/plain": [
       "[45, 'silu', [1, 2]]"
      ]
     },
     "execution_count": 81,
     "metadata": {},
     "output_type": "execute_result"
    }
   ],
   "source": [
    "l1"
   ]
  },
  {
   "cell_type": "code",
   "execution_count": 82,
   "id": "3b408075",
   "metadata": {},
   "outputs": [],
   "source": [
    "l1.append(7)"
   ]
  },
  {
   "cell_type": "code",
   "execution_count": 83,
   "id": "3dc847df",
   "metadata": {},
   "outputs": [
    {
     "data": {
      "text/plain": [
       "[45, 'silu', [1, 2], 7]"
      ]
     },
     "execution_count": 83,
     "metadata": {},
     "output_type": "execute_result"
    }
   ],
   "source": [
    "l1"
   ]
  },
  {
   "cell_type": "code",
   "execution_count": 84,
   "id": "6e31f61f",
   "metadata": {},
   "outputs": [],
   "source": [
    "l1.append(7)"
   ]
  },
  {
   "cell_type": "code",
   "execution_count": 85,
   "id": "35c28767",
   "metadata": {},
   "outputs": [
    {
     "data": {
      "text/plain": [
       "[45, 'silu', [1, 2], 7, 7]"
      ]
     },
     "execution_count": 85,
     "metadata": {},
     "output_type": "execute_result"
    }
   ],
   "source": [
    "l1"
   ]
  },
  {
   "cell_type": "code",
   "execution_count": 87,
   "id": "972153ed",
   "metadata": {},
   "outputs": [],
   "source": [
    "l1.remove(7)"
   ]
  },
  {
   "cell_type": "code",
   "execution_count": 88,
   "id": "ee0e3c9b",
   "metadata": {},
   "outputs": [
    {
     "data": {
      "text/plain": [
       "[45, 'silu', [1, 2], 7]"
      ]
     },
     "execution_count": 88,
     "metadata": {},
     "output_type": "execute_result"
    }
   ],
   "source": [
    "l1 "
   ]
  },
  {
   "cell_type": "code",
   "execution_count": 89,
   "id": "d69ef853",
   "metadata": {},
   "outputs": [
    {
     "data": {
      "text/plain": [
       "[7, [1, 2], 'silu', 45]"
      ]
     },
     "execution_count": 89,
     "metadata": {},
     "output_type": "execute_result"
    }
   ],
   "source": [
    "l1[::-1]\n",
    "#it reverse temporarily"
   ]
  },
  {
   "cell_type": "code",
   "execution_count": 90,
   "id": "0fb0188f",
   "metadata": {},
   "outputs": [],
   "source": [
    "#it reverse permanently\n",
    "l1.reverse()"
   ]
  },
  {
   "cell_type": "code",
   "execution_count": 91,
   "id": "e03b0cbe",
   "metadata": {},
   "outputs": [
    {
     "data": {
      "text/plain": [
       "[7, [1, 2], 'silu', 45]"
      ]
     },
     "execution_count": 91,
     "metadata": {},
     "output_type": "execute_result"
    }
   ],
   "source": [
    "l1"
   ]
  },
  {
   "cell_type": "code",
   "execution_count": 92,
   "id": "935727f3",
   "metadata": {},
   "outputs": [
    {
     "ename": "TypeError",
     "evalue": "'<' not supported between instances of 'list' and 'int'",
     "output_type": "error",
     "traceback": [
      "\u001b[1;31m---------------------------------------------------------------------------\u001b[0m",
      "\u001b[1;31mTypeError\u001b[0m                                 Traceback (most recent call last)",
      "\u001b[1;32m~\\AppData\\Local\\Temp\\ipykernel_9400\\2406146923.py\u001b[0m in \u001b[0;36m<module>\u001b[1;34m\u001b[0m\n\u001b[1;32m----> 1\u001b[1;33m \u001b[0ml1\u001b[0m\u001b[1;33m.\u001b[0m\u001b[0msort\u001b[0m\u001b[1;33m(\u001b[0m\u001b[1;33m)\u001b[0m\u001b[1;33m\u001b[0m\u001b[1;33m\u001b[0m\u001b[0m\n\u001b[0m",
      "\u001b[1;31mTypeError\u001b[0m: '<' not supported between instances of 'list' and 'int'"
     ]
    }
   ],
   "source": [
    "l1.sort()\n",
    "#it can't be sort due do diff data type"
   ]
  },
  {
   "cell_type": "code",
   "execution_count": 96,
   "id": "a019fd95",
   "metadata": {},
   "outputs": [],
   "source": [
    "l2=[34,890,23,78,3,4,5,6,7,8,9]\n",
    "# it can be sorting due to similar data type"
   ]
  },
  {
   "cell_type": "code",
   "execution_count": 97,
   "id": "f6e8c677",
   "metadata": {},
   "outputs": [
    {
     "data": {
      "text/plain": [
       "[34, 890, 23, 78, 3, 4, 5, 6, 7, 8, 9]"
      ]
     },
     "execution_count": 97,
     "metadata": {},
     "output_type": "execute_result"
    }
   ],
   "source": [
    "l2"
   ]
  },
  {
   "cell_type": "code",
   "execution_count": 98,
   "id": "fd11c19b",
   "metadata": {},
   "outputs": [],
   "source": [
    "l2.sort()"
   ]
  },
  {
   "cell_type": "code",
   "execution_count": 99,
   "id": "f40f1243",
   "metadata": {},
   "outputs": [
    {
     "data": {
      "text/plain": [
       "[3, 4, 5, 6, 7, 8, 9, 23, 34, 78, 890]"
      ]
     },
     "execution_count": 99,
     "metadata": {},
     "output_type": "execute_result"
    }
   ],
   "source": [
    "l2"
   ]
  },
  {
   "cell_type": "code",
   "execution_count": 100,
   "id": "e838821b",
   "metadata": {},
   "outputs": [],
   "source": [
    "l3=[23,\"one\",45]"
   ]
  },
  {
   "cell_type": "code",
   "execution_count": 101,
   "id": "d660a12a",
   "metadata": {},
   "outputs": [
    {
     "ename": "TypeError",
     "evalue": "'<' not supported between instances of 'str' and 'int'",
     "output_type": "error",
     "traceback": [
      "\u001b[1;31m---------------------------------------------------------------------------\u001b[0m",
      "\u001b[1;31mTypeError\u001b[0m                                 Traceback (most recent call last)",
      "\u001b[1;32m~\\AppData\\Local\\Temp\\ipykernel_9400\\805862314.py\u001b[0m in \u001b[0;36m<module>\u001b[1;34m\u001b[0m\n\u001b[1;32m----> 1\u001b[1;33m \u001b[0ml3\u001b[0m\u001b[1;33m.\u001b[0m\u001b[0msort\u001b[0m\u001b[1;33m(\u001b[0m\u001b[1;33m)\u001b[0m\u001b[1;33m\u001b[0m\u001b[1;33m\u001b[0m\u001b[0m\n\u001b[0m",
      "\u001b[1;31mTypeError\u001b[0m: '<' not supported between instances of 'str' and 'int'"
     ]
    }
   ],
   "source": [
    "l3.sort()"
   ]
  },
  {
   "cell_type": "code",
   "execution_count": 102,
   "id": "a62aafc4",
   "metadata": {},
   "outputs": [],
   "source": [
    "l4=[\"one\",\"two\",\"three\"]"
   ]
  },
  {
   "cell_type": "code",
   "execution_count": 103,
   "id": "a6d74da1",
   "metadata": {},
   "outputs": [],
   "source": [
    "l4.sort()"
   ]
  },
  {
   "cell_type": "code",
   "execution_count": 104,
   "id": "575a144e",
   "metadata": {},
   "outputs": [
    {
     "data": {
      "text/plain": [
       "['one', 'three', 'two']"
      ]
     },
     "execution_count": 104,
     "metadata": {},
     "output_type": "execute_result"
    }
   ],
   "source": [
    "l4"
   ]
  },
  {
   "cell_type": "code",
   "execution_count": 105,
   "id": "ff224da3",
   "metadata": {},
   "outputs": [],
   "source": [
    "l4.sort(reverse=True)"
   ]
  },
  {
   "cell_type": "code",
   "execution_count": 106,
   "id": "3c2a052d",
   "metadata": {},
   "outputs": [
    {
     "data": {
      "text/plain": [
       "['two', 'three', 'one']"
      ]
     },
     "execution_count": 106,
     "metadata": {},
     "output_type": "execute_result"
    }
   ],
   "source": [
    "l4"
   ]
  },
  {
   "cell_type": "code",
   "execution_count": 107,
   "id": "4c9404bb",
   "metadata": {},
   "outputs": [
    {
     "data": {
      "text/plain": [
       "['two', 'three', 'one']"
      ]
     },
     "execution_count": 107,
     "metadata": {},
     "output_type": "execute_result"
    }
   ],
   "source": [
    "l4"
   ]
  },
  {
   "cell_type": "code",
   "execution_count": 108,
   "id": "6cc7afff",
   "metadata": {},
   "outputs": [
    {
     "data": {
      "text/plain": [
       "2"
      ]
     },
     "execution_count": 108,
     "metadata": {},
     "output_type": "execute_result"
    }
   ],
   "source": [
    "l4.index(\"one\")"
   ]
  },
  {
   "cell_type": "code",
   "execution_count": 109,
   "id": "976dbfb6",
   "metadata": {},
   "outputs": [
    {
     "data": {
      "text/plain": [
       "1"
      ]
     },
     "execution_count": 109,
     "metadata": {},
     "output_type": "execute_result"
    }
   ],
   "source": [
    "l4.count(\"three\")\n",
    "#how many times three are there"
   ]
  },
  {
   "cell_type": "code",
   "execution_count": 110,
   "id": "bf798141",
   "metadata": {},
   "outputs": [],
   "source": [
    "s=\"Silan\""
   ]
  },
  {
   "cell_type": "code",
   "execution_count": 111,
   "id": "f8f6e08a",
   "metadata": {},
   "outputs": [],
   "source": [
    "l5=[5,6,7,8]"
   ]
  },
  {
   "cell_type": "code",
   "execution_count": 112,
   "id": "0f09d0dc",
   "metadata": {},
   "outputs": [
    {
     "ename": "TypeError",
     "evalue": "'str' object does not support item assignment",
     "output_type": "error",
     "traceback": [
      "\u001b[1;31m---------------------------------------------------------------------------\u001b[0m",
      "\u001b[1;31mTypeError\u001b[0m                                 Traceback (most recent call last)",
      "\u001b[1;32m~\\AppData\\Local\\Temp\\ipykernel_9400\\4058898234.py\u001b[0m in \u001b[0;36m<module>\u001b[1;34m\u001b[0m\n\u001b[1;32m----> 1\u001b[1;33m \u001b[0ms\u001b[0m\u001b[1;33m[\u001b[0m\u001b[1;36m0\u001b[0m\u001b[1;33m]\u001b[0m\u001b[1;33m=\u001b[0m\u001b[1;34m'a'\u001b[0m\u001b[1;33m\u001b[0m\u001b[1;33m\u001b[0m\u001b[0m\n\u001b[0m",
      "\u001b[1;31mTypeError\u001b[0m: 'str' object does not support item assignment"
     ]
    }
   ],
   "source": [
    "s[0]='a'"
   ]
  },
  {
   "cell_type": "code",
   "execution_count": 113,
   "id": "e578856b",
   "metadata": {},
   "outputs": [
    {
     "data": {
      "text/plain": [
       "5"
      ]
     },
     "execution_count": 113,
     "metadata": {},
     "output_type": "execute_result"
    }
   ],
   "source": [
    "l5[0]"
   ]
  },
  {
   "cell_type": "code",
   "execution_count": 115,
   "id": "9d3c374f",
   "metadata": {},
   "outputs": [],
   "source": [
    "l5[0]=30"
   ]
  },
  {
   "cell_type": "code",
   "execution_count": 116,
   "id": "c6663a52",
   "metadata": {},
   "outputs": [
    {
     "data": {
      "text/plain": [
       "[30, 6, 7, 8]"
      ]
     },
     "execution_count": 116,
     "metadata": {},
     "output_type": "execute_result"
    }
   ],
   "source": [
    "l5"
   ]
  },
  {
   "cell_type": "code",
   "execution_count": 118,
   "id": "5f1b42e0",
   "metadata": {},
   "outputs": [
    {
     "data": {
      "text/plain": [
       "'ailan'"
      ]
     },
     "execution_count": 118,
     "metadata": {},
     "output_type": "execute_result"
    }
   ],
   "source": [
    "s.replace('S','a')"
   ]
  },
  {
   "cell_type": "code",
   "execution_count": 119,
   "id": "e5efcab2",
   "metadata": {},
   "outputs": [
    {
     "data": {
      "text/plain": [
       "'Silan'"
      ]
     },
     "execution_count": 119,
     "metadata": {},
     "output_type": "execute_result"
    }
   ],
   "source": [
    "s"
   ]
  },
  {
   "cell_type": "markdown",
   "id": "e7bc8b1d",
   "metadata": {},
   "source": [
    "# Tuples"
   ]
  },
  {
   "cell_type": "code",
   "execution_count": 120,
   "id": "03419144",
   "metadata": {},
   "outputs": [],
   "source": [
    "t=(2,3,4,5,\"silu\",34.5,False,45+34j,[3,4,5])"
   ]
  },
  {
   "cell_type": "code",
   "execution_count": 121,
   "id": "fa6a5603",
   "metadata": {},
   "outputs": [
    {
     "data": {
      "text/plain": [
       "(2, 3, 4, 5, 'silu', 34.5, False, (45+34j), [3, 4, 5])"
      ]
     },
     "execution_count": 121,
     "metadata": {},
     "output_type": "execute_result"
    }
   ],
   "source": [
    "t"
   ]
  },
  {
   "cell_type": "code",
   "execution_count": 122,
   "id": "b02af5d8",
   "metadata": {},
   "outputs": [
    {
     "data": {
      "text/plain": [
       "tuple"
      ]
     },
     "execution_count": 122,
     "metadata": {},
     "output_type": "execute_result"
    }
   ],
   "source": [
    "type(t)"
   ]
  },
  {
   "cell_type": "code",
   "execution_count": 123,
   "id": "783d60be",
   "metadata": {},
   "outputs": [
    {
     "data": {
      "text/plain": [
       "9"
      ]
     },
     "execution_count": 123,
     "metadata": {},
     "output_type": "execute_result"
    }
   ],
   "source": [
    "len(t)"
   ]
  },
  {
   "cell_type": "code",
   "execution_count": 124,
   "id": "e6a48aef",
   "metadata": {},
   "outputs": [
    {
     "data": {
      "text/plain": [
       "2"
      ]
     },
     "execution_count": 124,
     "metadata": {},
     "output_type": "execute_result"
    }
   ],
   "source": [
    "t[0]"
   ]
  },
  {
   "cell_type": "code",
   "execution_count": 125,
   "id": "ecb7ec97",
   "metadata": {},
   "outputs": [
    {
     "data": {
      "text/plain": [
       "[3, 4, 5]"
      ]
     },
     "execution_count": 125,
     "metadata": {},
     "output_type": "execute_result"
    }
   ],
   "source": [
    "t[-1]"
   ]
  },
  {
   "cell_type": "code",
   "execution_count": 126,
   "id": "12a35c8c",
   "metadata": {},
   "outputs": [
    {
     "data": {
      "text/plain": [
       "([3, 4, 5], (45+34j), False, 34.5, 'silu', 5, 4, 3, 2)"
      ]
     },
     "execution_count": 126,
     "metadata": {},
     "output_type": "execute_result"
    }
   ],
   "source": [
    "t[::-1]"
   ]
  },
  {
   "cell_type": "code",
   "execution_count": 127,
   "id": "a04d5760",
   "metadata": {},
   "outputs": [
    {
     "data": {
      "text/plain": [
       "['two', 'three', 'one']"
      ]
     },
     "execution_count": 127,
     "metadata": {},
     "output_type": "execute_result"
    }
   ],
   "source": [
    "l4"
   ]
  },
  {
   "cell_type": "code",
   "execution_count": 129,
   "id": "29d29213",
   "metadata": {},
   "outputs": [],
   "source": [
    "l4[0]=567"
   ]
  },
  {
   "cell_type": "code",
   "execution_count": 130,
   "id": "49368554",
   "metadata": {},
   "outputs": [
    {
     "data": {
      "text/plain": [
       "[567, 'three', 'one']"
      ]
     },
     "execution_count": 130,
     "metadata": {},
     "output_type": "execute_result"
    }
   ],
   "source": [
    "l4"
   ]
  },
  {
   "cell_type": "code",
   "execution_count": 131,
   "id": "176ef1fc",
   "metadata": {},
   "outputs": [
    {
     "data": {
      "text/plain": [
       "(2, 3, 4, 5, 'silu', 34.5, False, (45+34j), [3, 4, 5])"
      ]
     },
     "execution_count": 131,
     "metadata": {},
     "output_type": "execute_result"
    }
   ],
   "source": [
    "t"
   ]
  },
  {
   "cell_type": "code",
   "execution_count": 132,
   "id": "1b6d28c4",
   "metadata": {},
   "outputs": [
    {
     "data": {
      "text/plain": [
       "2"
      ]
     },
     "execution_count": 132,
     "metadata": {},
     "output_type": "execute_result"
    }
   ],
   "source": [
    "t[0]"
   ]
  },
  {
   "cell_type": "code",
   "execution_count": 133,
   "id": "a387e48b",
   "metadata": {},
   "outputs": [
    {
     "ename": "TypeError",
     "evalue": "'tuple' object does not support item assignment",
     "output_type": "error",
     "traceback": [
      "\u001b[1;31m---------------------------------------------------------------------------\u001b[0m",
      "\u001b[1;31mTypeError\u001b[0m                                 Traceback (most recent call last)",
      "\u001b[1;32m~\\AppData\\Local\\Temp\\ipykernel_9400\\1950289011.py\u001b[0m in \u001b[0;36m<module>\u001b[1;34m\u001b[0m\n\u001b[1;32m----> 1\u001b[1;33m \u001b[0mt\u001b[0m\u001b[1;33m[\u001b[0m\u001b[1;36m0\u001b[0m\u001b[1;33m]\u001b[0m\u001b[1;33m=\u001b[0m\u001b[1;34m\"silu\"\u001b[0m\u001b[1;33m\u001b[0m\u001b[1;33m\u001b[0m\u001b[0m\n\u001b[0m",
      "\u001b[1;31mTypeError\u001b[0m: 'tuple' object does not support item assignment"
     ]
    }
   ],
   "source": [
    "t[0]=\"silu\"\n",
    "#tuples is immutable so we can't add or remove element from it's"
   ]
  },
  {
   "cell_type": "code",
   "execution_count": 134,
   "id": "5b33af64",
   "metadata": {},
   "outputs": [
    {
     "data": {
      "text/plain": [
       "([3, 4, 5], (45+34j), False, 34.5, 'silu', 5, 4, 3, 2)"
      ]
     },
     "execution_count": 134,
     "metadata": {},
     "output_type": "execute_result"
    }
   ],
   "source": [
    "t[::-1]"
   ]
  },
  {
   "cell_type": "code",
   "execution_count": 136,
   "id": "e0f846cd",
   "metadata": {},
   "outputs": [
    {
     "data": {
      "text/plain": [
       "1"
      ]
     },
     "execution_count": 136,
     "metadata": {},
     "output_type": "execute_result"
    }
   ],
   "source": [
    "t.count(4)"
   ]
  },
  {
   "cell_type": "code",
   "execution_count": 137,
   "id": "4ce16697",
   "metadata": {},
   "outputs": [
    {
     "data": {
      "text/plain": [
       "6"
      ]
     },
     "execution_count": 137,
     "metadata": {},
     "output_type": "execute_result"
    }
   ],
   "source": [
    "t.index(False)"
   ]
  },
  {
   "cell_type": "code",
   "execution_count": 138,
   "id": "e4f9be9a",
   "metadata": {},
   "outputs": [
    {
     "data": {
      "text/plain": [
       "(2, 3, 4, 5, 'silu', 34.5, False, (45+34j), [3, 4, 5])"
      ]
     },
     "execution_count": 138,
     "metadata": {},
     "output_type": "execute_result"
    }
   ],
   "source": [
    "t"
   ]
  },
  {
   "cell_type": "markdown",
   "id": "aa9f8b57",
   "metadata": {},
   "source": [
    "# SET:-"
   ]
  },
  {
   "cell_type": "code",
   "execution_count": 139,
   "id": "a637f1de",
   "metadata": {},
   "outputs": [],
   "source": [
    "#set:-\n",
    "s1={}"
   ]
  },
  {
   "cell_type": "code",
   "execution_count": 140,
   "id": "24d18556",
   "metadata": {},
   "outputs": [
    {
     "data": {
      "text/plain": [
       "dict"
      ]
     },
     "execution_count": 140,
     "metadata": {},
     "output_type": "execute_result"
    }
   ],
   "source": [
    "type(s1)"
   ]
  },
  {
   "cell_type": "code",
   "execution_count": 141,
   "id": "bd7a54aa",
   "metadata": {},
   "outputs": [],
   "source": [
    "s2={2,3,4,55,6}"
   ]
  },
  {
   "cell_type": "code",
   "execution_count": 142,
   "id": "f2902aad",
   "metadata": {},
   "outputs": [
    {
     "data": {
      "text/plain": [
       "set"
      ]
     },
     "execution_count": 142,
     "metadata": {},
     "output_type": "execute_result"
    }
   ],
   "source": [
    "type(s2)"
   ]
  },
  {
   "cell_type": "code",
   "execution_count": 145,
   "id": "d460ee01",
   "metadata": {},
   "outputs": [],
   "source": [
    "s3={34,565,56,\"silu\",67+7j,(6,7,8)}\n",
    "#can't access list but can tuple(6,7,8)"
   ]
  },
  {
   "cell_type": "code",
   "execution_count": 146,
   "id": "a17c676a",
   "metadata": {},
   "outputs": [
    {
     "data": {
      "text/plain": [
       "{(6, 7, 8), (67+7j), 34, 56, 565, 'silu'}"
      ]
     },
     "execution_count": 146,
     "metadata": {},
     "output_type": "execute_result"
    }
   ],
   "source": [
    "s3 "
   ]
  },
  {
   "cell_type": "code",
   "execution_count": 150,
   "id": "adbd320d",
   "metadata": {},
   "outputs": [],
   "source": [
    "s4={2,3,4,5,6,7,8,9,10,9,6,4,3,5,1,8,\"Silu\",\"silu\"}"
   ]
  },
  {
   "cell_type": "code",
   "execution_count": 151,
   "id": "1675e0eb",
   "metadata": {},
   "outputs": [
    {
     "data": {
      "text/plain": [
       "{1, 10, 2, 3, 4, 5, 6, 7, 8, 9, 'Silu', 'silu'}"
      ]
     },
     "execution_count": 151,
     "metadata": {},
     "output_type": "execute_result"
    }
   ],
   "source": [
    "s4"
   ]
  },
  {
   "cell_type": "code",
   "execution_count": 154,
   "id": "eb0bcdbd",
   "metadata": {},
   "outputs": [],
   "source": [
    "l6={2,3,4,5,6,7,\"silu\",\"milu\"}"
   ]
  },
  {
   "cell_type": "code",
   "execution_count": 156,
   "id": "31c17b10",
   "metadata": {},
   "outputs": [],
   "source": [
    "l6=list(set(l6))"
   ]
  },
  {
   "cell_type": "code",
   "execution_count": 157,
   "id": "75b99228",
   "metadata": {},
   "outputs": [
    {
     "data": {
      "text/plain": [
       "[2, 3, 4, 5, 6, 7, 'milu', 'silu']"
      ]
     },
     "execution_count": 157,
     "metadata": {},
     "output_type": "execute_result"
    }
   ],
   "source": [
    "l6"
   ]
  },
  {
   "cell_type": "code",
   "execution_count": 158,
   "id": "11b542c1",
   "metadata": {},
   "outputs": [],
   "source": [
    "s5={234,56,7,9,2,'abc',6786}"
   ]
  },
  {
   "cell_type": "code",
   "execution_count": 159,
   "id": "ed3a1443",
   "metadata": {},
   "outputs": [
    {
     "data": {
      "text/plain": [
       "{2, 234, 56, 6786, 7, 9, 'abc'}"
      ]
     },
     "execution_count": 159,
     "metadata": {},
     "output_type": "execute_result"
    }
   ],
   "source": [
    "s5"
   ]
  },
  {
   "cell_type": "code",
   "execution_count": 160,
   "id": "4931e635",
   "metadata": {},
   "outputs": [
    {
     "ename": "TypeError",
     "evalue": "'set' object is not subscriptable",
     "output_type": "error",
     "traceback": [
      "\u001b[1;31m---------------------------------------------------------------------------\u001b[0m",
      "\u001b[1;31mTypeError\u001b[0m                                 Traceback (most recent call last)",
      "\u001b[1;32m~\\AppData\\Local\\Temp\\ipykernel_9400\\4103576207.py\u001b[0m in \u001b[0;36m<module>\u001b[1;34m\u001b[0m\n\u001b[1;32m----> 1\u001b[1;33m \u001b[0ms5\u001b[0m\u001b[1;33m[\u001b[0m\u001b[1;36m0\u001b[0m\u001b[1;33m]\u001b[0m\u001b[1;33m\u001b[0m\u001b[1;33m\u001b[0m\u001b[0m\n\u001b[0m",
      "\u001b[1;31mTypeError\u001b[0m: 'set' object is not subscriptable"
     ]
    }
   ],
   "source": [
    "s5[0]"
   ]
  },
  {
   "cell_type": "code",
   "execution_count": 161,
   "id": "5618c073",
   "metadata": {},
   "outputs": [
    {
     "ename": "TypeError",
     "evalue": "'set' object is not subscriptable",
     "output_type": "error",
     "traceback": [
      "\u001b[1;31m---------------------------------------------------------------------------\u001b[0m",
      "\u001b[1;31mTypeError\u001b[0m                                 Traceback (most recent call last)",
      "\u001b[1;32m~\\AppData\\Local\\Temp\\ipykernel_9400\\182782020.py\u001b[0m in \u001b[0;36m<module>\u001b[1;34m\u001b[0m\n\u001b[1;32m----> 1\u001b[1;33m \u001b[0ms5\u001b[0m\u001b[1;33m[\u001b[0m\u001b[1;33m:\u001b[0m\u001b[1;33m:\u001b[0m\u001b[1;33m-\u001b[0m\u001b[1;36m1\u001b[0m\u001b[1;33m]\u001b[0m\u001b[1;33m\u001b[0m\u001b[1;33m\u001b[0m\u001b[0m\n\u001b[0m",
      "\u001b[1;31mTypeError\u001b[0m: 'set' object is not subscriptable"
     ]
    }
   ],
   "source": [
    "s5[::-1]"
   ]
  },
  {
   "cell_type": "code",
   "execution_count": 162,
   "id": "0f95fe5a",
   "metadata": {},
   "outputs": [
    {
     "data": {
      "text/plain": [
       "{2, 234, 56, 6786, 7, 9, 'abc'}"
      ]
     },
     "execution_count": 162,
     "metadata": {},
     "output_type": "execute_result"
    }
   ],
   "source": [
    "s5"
   ]
  },
  {
   "cell_type": "code",
   "execution_count": 163,
   "id": "1b2675ae",
   "metadata": {},
   "outputs": [],
   "source": [
    "s5.add(4)"
   ]
  },
  {
   "cell_type": "code",
   "execution_count": 164,
   "id": "542501fa",
   "metadata": {},
   "outputs": [
    {
     "data": {
      "text/plain": [
       "{2, 234, 4, 56, 6786, 7, 9, 'abc'}"
      ]
     },
     "execution_count": 164,
     "metadata": {},
     "output_type": "execute_result"
    }
   ],
   "source": [
    "s5"
   ]
  },
  {
   "cell_type": "code",
   "execution_count": 167,
   "id": "02593473",
   "metadata": {},
   "outputs": [],
   "source": [
    "s5.remove(56)"
   ]
  },
  {
   "cell_type": "code",
   "execution_count": 168,
   "id": "1155bdac",
   "metadata": {},
   "outputs": [
    {
     "data": {
      "text/plain": [
       "{2, 234, 4, 6786, 7, 9, 'abc'}"
      ]
     },
     "execution_count": 168,
     "metadata": {},
     "output_type": "execute_result"
    }
   ],
   "source": [
    "s5"
   ]
  },
  {
   "cell_type": "code",
   "execution_count": null,
   "id": "70e94cf2",
   "metadata": {},
   "outputs": [],
   "source": []
  }
 ],
 "metadata": {
  "kernelspec": {
   "display_name": "Python 3 (ipykernel)",
   "language": "python",
   "name": "python3"
  },
  "language_info": {
   "codemirror_mode": {
    "name": "ipython",
    "version": 3
   },
   "file_extension": ".py",
   "mimetype": "text/x-python",
   "name": "python",
   "nbconvert_exporter": "python",
   "pygments_lexer": "ipython3",
   "version": "3.9.13"
  }
 },
 "nbformat": 4,
 "nbformat_minor": 5
}
